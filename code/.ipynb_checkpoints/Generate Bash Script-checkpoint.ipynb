{
 "cells": [
  {
   "cell_type": "code",
   "execution_count": 1,
   "metadata": {
    "collapsed": false
   },
   "outputs": [
    {
     "name": "stdout",
     "output_type": "stream",
     "text": [
      "python spiking_conv_patch_connectivity_MNIST.py --mode=test --connectivity=none --conv_size=27 --conv_stride=1 --conv_features=50--lattice_structure=8 --weight_sharing=weight_sharing\n",
      "python spiking_conv_patch_connectivity_MNIST.py --mode=test --connectivity=none --conv_size=27 --conv_stride=1 --conv_features=50--lattice_structure=8 --weight_sharing=no_weight_sharing\n",
      "python spiking_conv_patch_connectivity_MNIST.py --mode=test --connectivity=none --conv_size=26 --conv_stride=1 --conv_features=50--lattice_structure=8 --weight_sharing=weight_sharing\n",
      "python spiking_conv_patch_connectivity_MNIST.py --mode=test --connectivity=none --conv_size=26 --conv_stride=1 --conv_features=50--lattice_structure=8 --weight_sharing=no_weight_sharing\n",
      "python spiking_conv_patch_connectivity_MNIST.py --mode=test --connectivity=none --conv_size=24 --conv_stride=2 --conv_features=50--lattice_structure=8 --weight_sharing=weight_sharing\n",
      "python spiking_conv_patch_connectivity_MNIST.py --mode=test --connectivity=none --conv_size=24 --conv_stride=2 --conv_features=50--lattice_structure=8 --weight_sharing=no_weight_sharing\n",
      "python spiking_conv_patch_connectivity_MNIST.py --mode=test --connectivity=none --conv_size=22 --conv_stride=2 --conv_features=50--lattice_structure=8 --weight_sharing=weight_sharing\n",
      "python spiking_conv_patch_connectivity_MNIST.py --mode=test --connectivity=none --conv_size=22 --conv_stride=2 --conv_features=50--lattice_structure=8 --weight_sharing=no_weight_sharing\n",
      "python spiking_conv_patch_connectivity_MNIST.py --mode=test --connectivity=none --conv_size=20 --conv_stride=2 --conv_features=50--lattice_structure=8 --weight_sharing=weight_sharing\n",
      "python spiking_conv_patch_connectivity_MNIST.py --mode=test --connectivity=none --conv_size=20 --conv_stride=2 --conv_features=50--lattice_structure=8 --weight_sharing=no_weight_sharing\n",
      "python spiking_conv_patch_connectivity_MNIST.py --mode=test --connectivity=none --conv_size=18 --conv_stride=2 --conv_features=50--lattice_structure=8 --weight_sharing=weight_sharing\n",
      "python spiking_conv_patch_connectivity_MNIST.py --mode=test --connectivity=none --conv_size=18 --conv_stride=2 --conv_features=50--lattice_structure=8 --weight_sharing=no_weight_sharing\n",
      "python spiking_conv_patch_connectivity_MNIST.py --mode=test --connectivity=none --conv_size=16 --conv_stride=2 --conv_features=50--lattice_structure=8 --weight_sharing=weight_sharing\n",
      "python spiking_conv_patch_connectivity_MNIST.py --mode=test --connectivity=none --conv_size=16 --conv_stride=2 --conv_features=50--lattice_structure=8 --weight_sharing=no_weight_sharing\n",
      "python spiking_conv_patch_connectivity_MNIST.py --mode=test --connectivity=none --conv_size=14 --conv_stride=2 --conv_features=50--lattice_structure=8 --weight_sharing=weight_sharing\n",
      "python spiking_conv_patch_connectivity_MNIST.py --mode=test --connectivity=none --conv_size=14 --conv_stride=2 --conv_features=50--lattice_structure=8 --weight_sharing=no_weight_sharing\n",
      "python spiking_conv_patch_connectivity_MNIST.py --mode=test --connectivity=none --conv_size=12 --conv_stride=2 --conv_features=50--lattice_structure=8 --weight_sharing=weight_sharing\n",
      "python spiking_conv_patch_connectivity_MNIST.py --mode=test --connectivity=none --conv_size=12 --conv_stride=2 --conv_features=50--lattice_structure=8 --weight_sharing=no_weight_sharing\n",
      "python spiking_conv_patch_connectivity_MNIST.py --mode=test --connectivity=none --conv_size=10 --conv_stride=2 --conv_features=50--lattice_structure=8 --weight_sharing=weight_sharing\n",
      "python spiking_conv_patch_connectivity_MNIST.py --mode=test --connectivity=none --conv_size=10 --conv_stride=2 --conv_features=50--lattice_structure=8 --weight_sharing=no_weight_sharing\n",
      "python spiking_conv_patch_connectivity_MNIST.py --mode=test --connectivity=none --conv_size=8 --conv_stride=2 --conv_features=50--lattice_structure=8 --weight_sharing=weight_sharing\n",
      "python spiking_conv_patch_connectivity_MNIST.py --mode=test --connectivity=none --conv_size=8 --conv_stride=2 --conv_features=50--lattice_structure=8 --weight_sharing=no_weight_sharing\n",
      "python spiking_conv_patch_connectivity_MNIST.py --mode=test --connectivity=pairs --conv_size=27 --conv_stride=1 --conv_features=50--lattice_structure=8 --weight_sharing=weight_sharing\n",
      "python spiking_conv_patch_connectivity_MNIST.py --mode=test --connectivity=pairs --conv_size=27 --conv_stride=1 --conv_features=50--lattice_structure=8 --weight_sharing=no_weight_sharing\n",
      "python spiking_conv_patch_connectivity_MNIST.py --mode=test --connectivity=pairs --conv_size=26 --conv_stride=1 --conv_features=50--lattice_structure=8 --weight_sharing=weight_sharing\n",
      "python spiking_conv_patch_connectivity_MNIST.py --mode=test --connectivity=pairs --conv_size=26 --conv_stride=1 --conv_features=50--lattice_structure=8 --weight_sharing=no_weight_sharing\n",
      "python spiking_conv_patch_connectivity_MNIST.py --mode=test --connectivity=pairs --conv_size=24 --conv_stride=2 --conv_features=50--lattice_structure=8 --weight_sharing=weight_sharing\n",
      "python spiking_conv_patch_connectivity_MNIST.py --mode=test --connectivity=pairs --conv_size=24 --conv_stride=2 --conv_features=50--lattice_structure=8 --weight_sharing=no_weight_sharing\n",
      "python spiking_conv_patch_connectivity_MNIST.py --mode=test --connectivity=pairs --conv_size=22 --conv_stride=2 --conv_features=50--lattice_structure=8 --weight_sharing=weight_sharing\n",
      "python spiking_conv_patch_connectivity_MNIST.py --mode=test --connectivity=pairs --conv_size=22 --conv_stride=2 --conv_features=50--lattice_structure=8 --weight_sharing=no_weight_sharing\n",
      "python spiking_conv_patch_connectivity_MNIST.py --mode=test --connectivity=pairs --conv_size=20 --conv_stride=2 --conv_features=50--lattice_structure=8 --weight_sharing=weight_sharing\n",
      "python spiking_conv_patch_connectivity_MNIST.py --mode=test --connectivity=pairs --conv_size=20 --conv_stride=2 --conv_features=50--lattice_structure=8 --weight_sharing=no_weight_sharing\n",
      "python spiking_conv_patch_connectivity_MNIST.py --mode=test --connectivity=pairs --conv_size=18 --conv_stride=2 --conv_features=50--lattice_structure=8 --weight_sharing=weight_sharing\n",
      "python spiking_conv_patch_connectivity_MNIST.py --mode=test --connectivity=pairs --conv_size=18 --conv_stride=2 --conv_features=50--lattice_structure=8 --weight_sharing=no_weight_sharing\n",
      "python spiking_conv_patch_connectivity_MNIST.py --mode=test --connectivity=pairs --conv_size=16 --conv_stride=2 --conv_features=50--lattice_structure=8 --weight_sharing=weight_sharing\n",
      "python spiking_conv_patch_connectivity_MNIST.py --mode=test --connectivity=pairs --conv_size=16 --conv_stride=2 --conv_features=50--lattice_structure=8 --weight_sharing=no_weight_sharing\n",
      "python spiking_conv_patch_connectivity_MNIST.py --mode=test --connectivity=pairs --conv_size=14 --conv_stride=2 --conv_features=50--lattice_structure=8 --weight_sharing=weight_sharing\n",
      "python spiking_conv_patch_connectivity_MNIST.py --mode=test --connectivity=pairs --conv_size=14 --conv_stride=2 --conv_features=50--lattice_structure=8 --weight_sharing=no_weight_sharing\n",
      "python spiking_conv_patch_connectivity_MNIST.py --mode=test --connectivity=pairs --conv_size=12 --conv_stride=2 --conv_features=50--lattice_structure=8 --weight_sharing=weight_sharing\n",
      "python spiking_conv_patch_connectivity_MNIST.py --mode=test --connectivity=pairs --conv_size=12 --conv_stride=2 --conv_features=50--lattice_structure=8 --weight_sharing=no_weight_sharing\n",
      "python spiking_conv_patch_connectivity_MNIST.py --mode=test --connectivity=pairs --conv_size=10 --conv_stride=2 --conv_features=50--lattice_structure=8 --weight_sharing=weight_sharing\n",
      "python spiking_conv_patch_connectivity_MNIST.py --mode=test --connectivity=pairs --conv_size=10 --conv_stride=2 --conv_features=50--lattice_structure=8 --weight_sharing=no_weight_sharing\n",
      "python spiking_conv_patch_connectivity_MNIST.py --mode=test --connectivity=pairs --conv_size=8 --conv_stride=2 --conv_features=50--lattice_structure=8 --weight_sharing=weight_sharing\n",
      "python spiking_conv_patch_connectivity_MNIST.py --mode=test --connectivity=pairs --conv_size=8 --conv_stride=2 --conv_features=50--lattice_structure=8 --weight_sharing=no_weight_sharing\n",
      "python spiking_conv_patch_connectivity_MNIST.py --mode=test --connectivity=all --conv_size=27 --conv_stride=1 --conv_features=50--lattice_structure=8 --weight_sharing=weight_sharing\n",
      "python spiking_conv_patch_connectivity_MNIST.py --mode=test --connectivity=all --conv_size=27 --conv_stride=1 --conv_features=50--lattice_structure=8 --weight_sharing=no_weight_sharing\n",
      "python spiking_conv_patch_connectivity_MNIST.py --mode=test --connectivity=all --conv_size=26 --conv_stride=1 --conv_features=50--lattice_structure=8 --weight_sharing=weight_sharing\n",
      "python spiking_conv_patch_connectivity_MNIST.py --mode=test --connectivity=all --conv_size=26 --conv_stride=1 --conv_features=50--lattice_structure=8 --weight_sharing=no_weight_sharing\n",
      "python spiking_conv_patch_connectivity_MNIST.py --mode=test --connectivity=all --conv_size=24 --conv_stride=2 --conv_features=50--lattice_structure=8 --weight_sharing=weight_sharing\n",
      "python spiking_conv_patch_connectivity_MNIST.py --mode=test --connectivity=all --conv_size=24 --conv_stride=2 --conv_features=50--lattice_structure=8 --weight_sharing=no_weight_sharing\n",
      "python spiking_conv_patch_connectivity_MNIST.py --mode=test --connectivity=all --conv_size=22 --conv_stride=2 --conv_features=50--lattice_structure=8 --weight_sharing=weight_sharing\n",
      "python spiking_conv_patch_connectivity_MNIST.py --mode=test --connectivity=all --conv_size=22 --conv_stride=2 --conv_features=50--lattice_structure=8 --weight_sharing=no_weight_sharing\n",
      "python spiking_conv_patch_connectivity_MNIST.py --mode=test --connectivity=all --conv_size=20 --conv_stride=2 --conv_features=50--lattice_structure=8 --weight_sharing=weight_sharing\n",
      "python spiking_conv_patch_connectivity_MNIST.py --mode=test --connectivity=all --conv_size=20 --conv_stride=2 --conv_features=50--lattice_structure=8 --weight_sharing=no_weight_sharing\n",
      "python spiking_conv_patch_connectivity_MNIST.py --mode=test --connectivity=all --conv_size=18 --conv_stride=2 --conv_features=50--lattice_structure=8 --weight_sharing=weight_sharing\n",
      "python spiking_conv_patch_connectivity_MNIST.py --mode=test --connectivity=all --conv_size=18 --conv_stride=2 --conv_features=50--lattice_structure=8 --weight_sharing=no_weight_sharing\n",
      "python spiking_conv_patch_connectivity_MNIST.py --mode=test --connectivity=all --conv_size=16 --conv_stride=2 --conv_features=50--lattice_structure=8 --weight_sharing=weight_sharing\n",
      "python spiking_conv_patch_connectivity_MNIST.py --mode=test --connectivity=all --conv_size=16 --conv_stride=2 --conv_features=50--lattice_structure=8 --weight_sharing=no_weight_sharing\n",
      "python spiking_conv_patch_connectivity_MNIST.py --mode=test --connectivity=all --conv_size=14 --conv_stride=2 --conv_features=50--lattice_structure=8 --weight_sharing=weight_sharing\n",
      "python spiking_conv_patch_connectivity_MNIST.py --mode=test --connectivity=all --conv_size=14 --conv_stride=2 --conv_features=50--lattice_structure=8 --weight_sharing=no_weight_sharing\n",
      "python spiking_conv_patch_connectivity_MNIST.py --mode=test --connectivity=all --conv_size=12 --conv_stride=2 --conv_features=50--lattice_structure=8 --weight_sharing=weight_sharing\n",
      "python spiking_conv_patch_connectivity_MNIST.py --mode=test --connectivity=all --conv_size=12 --conv_stride=2 --conv_features=50--lattice_structure=8 --weight_sharing=no_weight_sharing\n",
      "python spiking_conv_patch_connectivity_MNIST.py --mode=test --connectivity=all --conv_size=10 --conv_stride=2 --conv_features=50--lattice_structure=8 --weight_sharing=weight_sharing\n",
      "python spiking_conv_patch_connectivity_MNIST.py --mode=test --connectivity=all --conv_size=10 --conv_stride=2 --conv_features=50--lattice_structure=8 --weight_sharing=no_weight_sharing\n",
      "python spiking_conv_patch_connectivity_MNIST.py --mode=test --connectivity=all --conv_size=8 --conv_stride=2 --conv_features=50--lattice_structure=8 --weight_sharing=weight_sharing\n",
      "python spiking_conv_patch_connectivity_MNIST.py --mode=test --connectivity=all --conv_size=8 --conv_stride=2 --conv_features=50--lattice_structure=8 --weight_sharing=no_weight_sharing\n"
     ]
    }
   ],
   "source": [
    "for connectivity in [ 'none', 'pairs', 'all' ]:\n",
    "    for conv_size in [ '27', '26', '24', '22', '20', '18', '16', '14', '12', '10', '8' ]:\n",
    "        for weight_sharing in [ 'weight_sharing', 'no_weight_sharing' ]:\n",
    "            if conv_size in [ '27', '26' ]:\n",
    "                print 'python spiking_conv_patch_connectivity_MNIST.py --mode=test --connectivity=' + \\\n",
    "                    connectivity + ' --conv_size=' + conv_size + ' --conv_stride=1 --conv_features=50' + \\\n",
    "                    '--lattice_structure=8 --weight_sharing=' + weight_sharing \n",
    "            else:\n",
    "                print 'python spiking_conv_patch_connectivity_MNIST.py --mode=test --connectivity=' + \\\n",
    "                    connectivity + ' --conv_size=' + conv_size + ' --conv_stride=2 --conv_features=50' + \\\n",
    "                    '--lattice_structure=8 --weight_sharing=' + weight_sharing\n",
    "print 'exit'"
   ]
  },
  {
   "cell_type": "code",
   "execution_count": null,
   "metadata": {
    "collapsed": true
   },
   "outputs": [],
   "source": []
  }
 ],
 "metadata": {
  "anaconda-cloud": {},
  "kernelspec": {
   "display_name": "Python [conda env:py27]",
   "language": "python",
   "name": "conda-env-py27-py"
  },
  "language_info": {
   "codemirror_mode": {
    "name": "ipython",
    "version": 2
   },
   "file_extension": ".py",
   "mimetype": "text/x-python",
   "name": "python",
   "nbconvert_exporter": "python",
   "pygments_lexer": "ipython2",
   "version": "2.7.13"
  }
 },
 "nbformat": 4,
 "nbformat_minor": 2
}
